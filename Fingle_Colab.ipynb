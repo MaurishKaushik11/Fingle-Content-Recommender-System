{
 "cells": [
  {
   "cell_type": "markdown",
   "metadata": {},
   "source": [
    "# Fingle Recommender – Colab Runner\n",
    "This Colab notebook clones the GitHub repo, installs dependencies, executes the main notebook, and shows outputs.\n",
    "\n",
    "If you forked the repo, change the `REPO_URL` below to your fork."
   ]
  },
  {
   "cell_type": "code",
   "execution_count": null,
   "metadata": {
    "id": "env-setup"
   },
   "outputs": [],
   "source": [
    "REPO_URL = 'https://github.com/MaurishKaushik11/Fingle-Content-Recommender-System.git'\n",
    "REPO_DIR = 'Fingle-Content-Recommender-System'\n",
    "\n",
    "!rm -rf $REPO_DIR\n",
    "!git clone $REPO_URL\n",
    "%cd $REPO_DIR\n",
    "!pip install -q -r requirements.txt\n"
   ]
  },
  {
   "cell_type": "markdown",
   "metadata": {},
   "source": [
    "## Execute the main notebook\n",
    "Runs `Fingle_Recommender.ipynb` end-to-end and saves an executed copy, while generating `recommendations_top3.csv`."
   ]
  },
  {
   "cell_type": "code",
   "execution_count": null,
   "metadata": {
    "id": "execute-notebook"
   },
   "outputs": [],
   "source": [
    "!jupyter nbconvert --to notebook --execute Fingle_Recommender.ipynb --output Fingle_Recommender_executed.ipynb --ExecutePreprocessor.timeout=600\n"
   ]
  },
  {
   "cell_type": "markdown",
   "metadata": {},
   "source": [
    "## Show metrics and first rows of recommendations\n",
    "Reads the generated recommendations CSV and prints head."
   ]
  },
  {
   "cell_type": "code",
   "execution_count": null,
   "metadata": {
    "id": "display-outputs"
   },
   "outputs": [],
   "source": [
    "import pandas as pd\n",
    "from pathlib import Path\n",
    "\n",
    "rec_path = Path('recommendations_top3.csv')\n",
    "if rec_path.exists():\n",
    "    df = pd.read_csv(rec_path)\n",
    "    display(df.head(10))\n",
    "else:\n",
    "    print('recommendations_top3.csv not found. Check nbconvert logs above.')\n"
   ]
  },
  {
   "cell_type": "markdown",
   "metadata": {},
   "source": [
    "## (Optional) Download artifacts\n",
    "Provides links to download outputs from Colab."
   ]
  },
  {
   "cell_type": "code",
   "execution_count": null,
   "metadata": {
    "id": "download-links"
   },
   "outputs": [],
   "source": [
    "from google.colab import files\n",
    "for p in ['Fingle_Recommender_executed.ipynb', 'recommendations_top3.csv', 'REPORT.md']:\n",
    "    if Path(p).exists():\n",
    "        files.download(p)\n",
    "    else:\n",
    "        print(f'{p} not found')\n"
   ]
  }
 ],
 "metadata": {
  "kernelspec": {
   "display_name": "Python 3",
   "language": "python",
   "name": "python3"
  },
  "language_info": {
   "name": "python",
   "version": "3.x"
  },
  "colab": {
   "name": "Fingle_Colab.ipynb",
   "provenance": []
  }
 },
 "nbformat": 4,
 "nbformat_minor": 5
}
